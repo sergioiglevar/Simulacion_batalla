{
 "cells": [
  {
   "cell_type": "code",
   "execution_count": null,
   "metadata": {},
   "outputs": [],
   "source": []
  },
  {
   "cell_type": "markdown",
   "metadata": {},
   "source": [
    "# INTRODUCCIÓN A LAS CLASES DE PYTHON\n",
    "\n",
    "### ¿Qué es una clase?\n",
    "\n",
    "Una clase es un un plano o una plantilla para crear objetos. En Python, las clases son creadas mediante la palabra clave `class`.\n",
    "\n",
    "### ¿Qué características tiene una clase?\n",
    "\n",
    "- **Atributos**: Son variables que pertenecen a la clase.\n",
    "- **Métodos**: Son funciones que pertenecen a la clase.\n",
    "\n"
   ]
  },
  {
   "cell_type": "code",
   "execution_count": 13,
   "metadata": {},
   "outputs": [],
   "source": [
    "class Perro:\n",
    "    def _init_(self, nombre, edad):\n",
    "        self.nombre = nombre\n",
    "        self.edad = edad\n",
    "        \n",
    "    def ladrar (self):\n",
    "        print(f'{self.nombre}dice guau')"
   ]
  },
  {
   "cell_type": "code",
   "execution_count": 29,
   "metadata": {},
   "outputs": [
    {
     "ename": "TypeError",
     "evalue": "Perro() takes no arguments",
     "output_type": "error",
     "traceback": [
      "\u001b[1;31m---------------------------------------------------------------------------\u001b[0m",
      "\u001b[1;31mTypeError\u001b[0m                                 Traceback (most recent call last)",
      "Cell \u001b[1;32mIn[29], line 1\u001b[0m\n\u001b[1;32m----> 1\u001b[0m mi_perro \u001b[38;5;241m=\u001b[39m \u001b[43mPerro\u001b[49m\u001b[43m(\u001b[49m\u001b[38;5;124;43m'\u001b[39;49m\u001b[38;5;124;43mRuffo\u001b[39;49m\u001b[38;5;124;43m'\u001b[39;49m\u001b[43m,\u001b[49m\u001b[43m \u001b[49m\u001b[38;5;241;43m5\u001b[39;49m\u001b[43m)\u001b[49m\n\u001b[0;32m      2\u001b[0m tu_perro \u001b[38;5;241m=\u001b[39m Perro(\u001b[38;5;124m'\u001b[39m\u001b[38;5;124mFirulais\u001b[39m\u001b[38;5;124m'\u001b[39m, \u001b[38;5;241m3\u001b[39m)\n",
      "\u001b[1;31mTypeError\u001b[0m: Perro() takes no arguments"
     ]
    }
   ],
   "source": [
    "\n",
    "mi_perro = Perro('Ruffo', 5)\n",
    "tu_perro = Perro('Firulais', 3)"
   ]
  },
  {
   "cell_type": "markdown",
   "metadata": {},
   "source": [
    "#### Crear la clase coche con los atributos marca, modelo y año\n"
   ]
  },
  {
   "cell_type": "code",
   "execution_count": 39,
   "metadata": {},
   "outputs": [],
   "source": [
    "class Coche:\n",
    "    def __init__(self, marca,modelo,año):\n",
    "        self.marca = marca\n",
    "        self.modelo = modelo\n",
    "        self.año = año\n",
    "        \n",
    "    def acelerar(self):\n",
    "        print(f'{self.marca} acelerando')\n",
    "        \n",
    "    def frenar(self):\n",
    "        print(f'{self.marca} frenando')\n",
    "        \n",
    "\n"
   ]
  },
  {
   "cell_type": "markdown",
   "metadata": {},
   "source": [
    "### Con la clase coche creada, añadir 3 coches con sus respectivos atributos.\n"
   ]
  },
  {
   "cell_type": "code",
   "execution_count": 36,
   "metadata": {},
   "outputs": [],
   "source": [
    "\n",
    "coche1 = Coche('Seat','leon', 2002) \n",
    "coche2 = Coche('BMW','320', 2023)\n",
    "coche3 = Coche('Volvo','V40', 2024)\n"
   ]
  },
  {
   "cell_type": "markdown",
   "metadata": {},
   "source": [
    "#### Añadir a la clase principal, acelerar, frenar como funciones.\n"
   ]
  },
  {
   "cell_type": "code",
   "execution_count": null,
   "metadata": {},
   "outputs": [],
   "source": []
  }
 ],
 "metadata": {
  "kernelspec": {
   "display_name": "Python 3",
   "language": "python",
   "name": "python3"
  },
  "language_info": {
   "codemirror_mode": {
    "name": "ipython",
    "version": 3
   },
   "file_extension": ".py",
   "mimetype": "text/x-python",
   "name": "python",
   "nbconvert_exporter": "python",
   "pygments_lexer": "ipython3",
   "version": "3.10.11"
  }
 },
 "nbformat": 4,
 "nbformat_minor": 2
}
